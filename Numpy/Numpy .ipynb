{
 "cells": [
  {
   "cell_type": "markdown",
   "id": "8b3e3be0",
   "metadata": {},
   "source": [
    "## __NUMPY LIBRARY - PYTHON__\n",
    "\n",
    "### Key points : \n",
    "\n",
    "1. NumPy is the fundamental package for scientific computing in Python.\n",
    "\n",
    "\n",
    "2. It is a Python library that provides a multidimensional array object, various derived objects (such as masked arrays and    matrices), and an assortment of routines for fast operations on arrays, including mathematical, logical, shape manipulation, sorting, selecting, I/O, discrete Fourier transforms, basic linear algebra, basic statistical operations, random simulation and much more.\n",
    "\n",
    "\n",
    "3. NumPy arrays have a fixed size at creation, Changing the size of an ndarray will create a new array and delete the original.\n",
    "\n",
    "\n",
    "4. The elements in a NumPy array are all required to be of the same data type, and thus will be the same size in memory.\n",
    "\n",
    "***"
   ]
  },
  {
   "cell_type": "code",
   "execution_count": 25,
   "id": "d3fc5b8c",
   "metadata": {},
   "outputs": [],
   "source": [
    "import numpy as np"
   ]
  },
  {
   "cell_type": "markdown",
   "id": "de6c305e",
   "metadata": {},
   "source": [
    "List vs Numpy - time taken - calculated using time package"
   ]
  },
  {
   "cell_type": "code",
   "execution_count": 26,
   "id": "a033a685",
   "metadata": {},
   "outputs": [],
   "source": [
    "from time import process_time"
   ]
  },
  {
   "cell_type": "code",
   "execution_count": 27,
   "id": "926da13e",
   "metadata": {},
   "outputs": [
    {
     "name": "stdout",
     "output_type": "stream",
     "text": [
      "time taken is :  0.015625\n"
     ]
    }
   ],
   "source": [
    "# time taken by list \n",
    "\n",
    "py_list=[i for i in range(50000)]\n",
    "start_time=process_time()\n",
    "py_list=[i+5 for i in py_list]\n",
    "end_time=process_time()\n",
    "print(\"time taken is : \",(end_time-start_time))"
   ]
  },
  {
   "cell_type": "code",
   "execution_count": 32,
   "id": "7577a4e3",
   "metadata": {},
   "outputs": [
    {
     "name": "stdout",
     "output_type": "stream",
     "text": [
      "0.078125\n"
     ]
    }
   ],
   "source": [
    "# time taken by numpy array\n",
    "\n",
    "np_array = np.array([i for i in range(50000000)])\n",
    "start_t=process_time()\n",
    "np_array += 5\n",
    "end_t=process_time()\n",
    "print(end_t-start_t)"
   ]
  },
  {
   "cell_type": "code",
   "execution_count": 80,
   "id": "e639a1ba",
   "metadata": {},
   "outputs": [
    {
     "name": "stdout",
     "output_type": "stream",
     "text": [
      "[[2. 3. 4.]\n",
      " [6. 7. 8.]]\n",
      "[2. 3. 4.]\n",
      "[2. 6.]\n",
      "[[6. 7. 8.]]\n"
     ]
    }
   ],
   "source": [
    "# n dimensional\n",
    "\n",
    "n=np.array([(2,3,4),(6,7,8)],dtype='float')\n",
    "print(n)\n",
    "n.shape\n",
    "\n",
    "#get specific row\n",
    "print(n[0,:])\n",
    "\n",
    "#get a specific column\n",
    "print(n[:,0])\n",
    "\n",
    "#get specific values\n",
    "print(n[1:2:1])\n",
    "\n",
    "\n",
    "\n",
    "nn=np.array([(45,67,89)], dtype=float)"
   ]
  },
  {
   "cell_type": "code",
   "execution_count": 39,
   "id": "ea53ea32",
   "metadata": {},
   "outputs": [
    {
     "name": "stdout",
     "output_type": "stream",
     "text": [
      "[[0. 0. 0. 0. 0.]\n",
      " [0. 0. 0. 0. 0.]\n",
      " [0. 0. 0. 0. 0.]\n",
      " [0. 0. 0. 0. 0.]\n",
      " [0. 0. 0. 0. 0.]]\n",
      "[[1. 1. 1.]\n",
      " [1. 1. 1.]\n",
      " [1. 1. 1.]]\n",
      "[[7 7 7 7]\n",
      " [7 7 7 7]\n",
      " [7 7 7 7]\n",
      " [7 7 7 7]\n",
      " [7 7 7 7]]\n"
     ]
    }
   ],
   "source": [
    "# create an array of zeros\n",
    "arr=np.zeros((5,5))\n",
    "print(arr)\n",
    "\n",
    "# create an array of ones\n",
    "ar=np.ones((3,3))\n",
    "print(ar)\n",
    "\n",
    "# create an array of specific values\n",
    "a=np.full((5,4),7)\n",
    "print(a)"
   ]
  },
  {
   "cell_type": "code",
   "execution_count": 81,
   "id": "742e76ad",
   "metadata": {},
   "outputs": [
    {
     "name": "stdout",
     "output_type": "stream",
     "text": [
      "[[1. 0. 0. 0.]\n",
      " [0. 1. 0. 0.]\n",
      " [0. 0. 1. 0.]\n",
      " [0. 0. 0. 1.]]\n",
      "[[1. 0. 0. 0. 0. 0.]\n",
      " [0. 1. 0. 0. 0. 0.]\n",
      " [0. 0. 1. 0. 0. 0.]\n",
      " [0. 0. 0. 1. 0. 0.]\n",
      " [0. 0. 0. 0. 1. 0.]\n",
      " [0. 0. 0. 0. 0. 1.]]\n"
     ]
    }
   ],
   "source": [
    "# create an identity matrix\n",
    "x=np.eye(4)\n",
    "print(x)\n",
    "\n",
    "#or\n",
    "\n",
    "y=np.identity(6)\n",
    "print(y)"
   ]
  },
  {
   "cell_type": "code",
   "execution_count": 70,
   "id": "cb8fdf6a",
   "metadata": {},
   "outputs": [
    {
     "name": "stdout",
     "output_type": "stream",
     "text": [
      "[[0.02580684 0.98362228 0.13559147 0.48578656]\n",
      " [0.29263324 0.95470632 0.06463468 0.65214276]\n",
      " [0.32811375 0.26758765 0.43927324 0.00533031]]\n"
     ]
    }
   ],
   "source": [
    "# create a numpy array with random values\n",
    "b=np.random.random((3,4))\n",
    "print(b)"
   ]
  },
  {
   "cell_type": "code",
   "execution_count": 45,
   "id": "5acf0166",
   "metadata": {},
   "outputs": [
    {
     "name": "stdout",
     "output_type": "stream",
     "text": [
      "[34 46 56  9 21 51 43 48 62 50 29 47 38 15 60 59 33 62 57 14 13 58 48 19\n",
      " 27 11 32 55  9 65 58 25 51]\n"
     ]
    }
   ],
   "source": [
    "# random integer values array within a specific range\n",
    "c=np.random.randint(4,66,33)\n",
    "print(c)"
   ]
  },
  {
   "cell_type": "code",
   "execution_count": 46,
   "id": "5e89a36d",
   "metadata": {},
   "outputs": [
    {
     "name": "stdout",
     "output_type": "stream",
     "text": [
      "[20.         23.33333333 26.66666667 30.         33.33333333 36.66666667\n",
      " 40.         43.33333333 46.66666667 50.        ]\n"
     ]
    }
   ],
   "source": [
    "# getting a specific number of evenly spaced values in a range.\n",
    "d = np.linspace(20,50,10)\n",
    "print(d)"
   ]
  },
  {
   "cell_type": "code",
   "execution_count": 88,
   "id": "57ce6518",
   "metadata": {},
   "outputs": [
    {
     "name": "stdout",
     "output_type": "stream",
     "text": [
      "[20 25]\n",
      "[20 20 20 20 25 25 25 25]\n"
     ]
    },
    {
     "data": {
      "text/plain": [
       "array([4, 4, 4, 4, 4])"
      ]
     },
     "execution_count": 88,
     "metadata": {},
     "output_type": "execute_result"
    }
   ],
   "source": [
    "# getting values from range with same diff btwn them\n",
    "s=np.arange(20,30,5)\n",
    "print(s)\n",
    "\n",
    "# repeat method\n",
    "z=np.repeat(s,4,axis=0)\n",
    "print(z)\n",
    "\n",
    "# Any other number (full_like)\n",
    "np.full_like(a, 4)"
   ]
  },
  {
   "cell_type": "code",
   "execution_count": 51,
   "id": "efdc4416",
   "metadata": {},
   "outputs": [
    {
     "name": "stdout",
     "output_type": "stream",
     "text": [
      "[23  4 56  7 89]\n"
     ]
    }
   ],
   "source": [
    "# list to numpy array conversion\n",
    "li=[23,4,56,7,89]\n",
    "a=np.asarray(li)\n",
    "print(a)"
   ]
  },
  {
   "cell_type": "markdown",
   "id": "103154cb",
   "metadata": {},
   "source": [
    "***\n",
    "### Analysing a numpy array\n",
    "***"
   ]
  },
  {
   "cell_type": "code",
   "execution_count": 53,
   "id": "3357ae81",
   "metadata": {},
   "outputs": [
    {
     "name": "stdout",
     "output_type": "stream",
     "text": [
      "(4, 4)\n",
      "2\n",
      "16\n",
      "int32\n"
     ]
    }
   ],
   "source": [
    "c=np.random.randint(30,80,(4,4)) # 4x4 array with random values in a specific range\n",
    "\n",
    "#dimensions of array\n",
    "print(c.shape)\n",
    "\n",
    "#no. of dimensions\n",
    "print(c.ndim) #its rows and columns so 2d\n",
    "\n",
    "#no. of elements in an array\n",
    "print(c.size)\n",
    "\n",
    "#data type of values in the array\n",
    "print(c.dtype)"
   ]
  },
  {
   "cell_type": "markdown",
   "id": "2a53251a",
   "metadata": {},
   "source": [
    "***\n",
    "### Mathematical operations on a numpy array\n",
    "***"
   ]
  },
  {
   "cell_type": "code",
   "execution_count": 84,
   "id": "d8fd8784",
   "metadata": {},
   "outputs": [
    {
     "name": "stdout",
     "output_type": "stream",
     "text": [
      "[1, 2, 3, 4, 5, 6, 7, 8, 9, 11]\n",
      "[[40 43 34]\n",
      " [37 37 39]\n",
      " [36 36 43]]\n",
      "[[18  9 14]\n",
      " [ 3 13  7]\n",
      " [ 4 12  5]]\n",
      "[[319 442 240]\n",
      " [340 300 368]\n",
      " [320 288 456]]\n",
      "[[2.63636364 1.52941176 2.4       ]\n",
      " [1.17647059 2.08333333 1.4375    ]\n",
      " [1.25       2.         1.26315789]]\n",
      "[ 0.96017029  0.75390225 -0.14550003 -0.91113026  0.0044257 ]\n"
     ]
    }
   ],
   "source": [
    "l1=[1,2,3,4,5]\n",
    "l2=[6,7,8,9,11]\n",
    "\n",
    "#add symbol = concatenate\n",
    "print(l1+l2)\n",
    "\n",
    "#for nd arrays\n",
    "l3=np.random.randint(20,30,(3,3))\n",
    "l4=np.random.randint(10,20,(3,3))\n",
    "\n",
    "print(l3+l4)\n",
    "print(l3-l4)\n",
    "print(l3*l4)\n",
    "print(l3/l4)\n",
    "\n",
    "\n",
    "#cos\n",
    "print(np.cos(l2))"
   ]
  },
  {
   "cell_type": "code",
   "execution_count": 87,
   "id": "647350aa",
   "metadata": {},
   "outputs": [
    {
     "name": "stdout",
     "output_type": "stream",
     "text": [
      "[ 7  9 11 13 16]\n",
      "[-5 -5 -5 -5 -6]\n",
      "[ 6 14 24 36 55]\n",
      "[0.16666667 0.28571429 0.375      0.44444444 0.45454545]\n",
      "[[1. 1.]\n",
      " [1. 1.]\n",
      " [1. 1.]]  \n",
      "  [[3 3 3]\n",
      " [3 3 3]]\n",
      "[[6. 6. 6.]\n",
      " [6. 6. 6.]\n",
      " [6. 6. 6.]]\n"
     ]
    }
   ],
   "source": [
    "l1=[1,2,3,4,5]\n",
    "l2=[6,7,8,9,11]\n",
    "\n",
    "#adding\n",
    "print(np.add(l1,l2))\n",
    "\n",
    "#subract\n",
    "print(np.subtract(l1,l2))\n",
    "\n",
    "#multiply\n",
    "print(np.multiply(l1,l2))\n",
    "\n",
    "#divide\n",
    "print(np.divide(l1,l2))\n",
    "\n",
    "#matrix multiplication\n",
    "ll=np.ones((3,2))\n",
    "lll=np.full((2,3),3)\n",
    "print(ll,\" \\n \",lll)\n",
    "llll=np.matmul(ll,lll)\n",
    "print(llll)"
   ]
  },
  {
   "cell_type": "markdown",
   "id": "d1a60132",
   "metadata": {},
   "source": [
    "***\n",
    "### Array manipulation\n",
    "***"
   ]
  },
  {
   "cell_type": "code",
   "execution_count": 64,
   "id": "36d94c19",
   "metadata": {},
   "outputs": [
    {
     "name": "stdout",
     "output_type": "stream",
     "text": [
      "[[22 28 24]\n",
      " [20 24 27]\n",
      " [21 23 27]]\n",
      "[[22 28 24]\n",
      " [20 24 27]\n",
      " [21 23 27]]\n",
      "[[22 20 21 28 24 23 24 27 27]]\n"
     ]
    }
   ],
   "source": [
    "l3=np.random.randint(20,30,(3,3))\n",
    "\n",
    "#transpose\n",
    "t=np.transpose(l3)\n",
    "print(t)\n",
    "\n",
    "# here the transpose of l3 is stored into x\n",
    "x=l3.T\n",
    "print(x)\n",
    "\n",
    "#reshaping an array\n",
    "m=l3.reshape(1,9)\n",
    "print(m)"
   ]
  },
  {
   "cell_type": "code",
   "execution_count": 89,
   "id": "e82dafdf",
   "metadata": {},
   "outputs": [
    {
     "name": "stdout",
     "output_type": "stream",
     "text": [
      "[1 2 3]\n"
     ]
    }
   ],
   "source": [
    "# copying arrays - dont use = sign bcz we modify one array the other will also change\n",
    "a = np.array([1,2,3])\n",
    "b = a.copy()\n",
    "b[0] = 100\n",
    "\n",
    "print(a)"
   ]
  },
  {
   "cell_type": "code",
   "execution_count": 90,
   "id": "92201028",
   "metadata": {},
   "outputs": [
    {
     "data": {
      "text/plain": [
       "1.0"
      ]
     },
     "execution_count": 90,
     "metadata": {},
     "output_type": "execute_result"
    }
   ],
   "source": [
    "# Find the determinant\n",
    "c = np.identity(3)\n",
    "np.linalg.det(c)"
   ]
  },
  {
   "cell_type": "markdown",
   "id": "03db9dce",
   "metadata": {},
   "source": [
    "***\n",
    "### Statistics\n",
    "***"
   ]
  },
  {
   "cell_type": "code",
   "execution_count": 91,
   "id": "ebca4fbc",
   "metadata": {},
   "outputs": [
    {
     "data": {
      "text/plain": [
       "array([[1, 2, 3],\n",
       "       [4, 5, 6]])"
      ]
     },
     "execution_count": 91,
     "metadata": {},
     "output_type": "execute_result"
    }
   ],
   "source": [
    "st = np.array([[1,2,3],[4,5,6]])\n",
    "st"
   ]
  },
  {
   "cell_type": "code",
   "execution_count": 93,
   "id": "738b58da",
   "metadata": {},
   "outputs": [
    {
     "data": {
      "text/plain": [
       "array([5, 7, 9])"
      ]
     },
     "execution_count": 93,
     "metadata": {},
     "output_type": "execute_result"
    }
   ],
   "source": [
    "# min\n",
    "np.min(st)\n",
    "\n",
    "# max\n",
    "np.max(st, axis=1)\n",
    "\n",
    "# sum\n",
    "np.sum(st, axis=0)"
   ]
  },
  {
   "cell_type": "markdown",
   "id": "803dd789",
   "metadata": {},
   "source": [
    "***\n",
    "### Loading data from file\n",
    "***"
   ]
  },
  {
   "cell_type": "code",
   "execution_count": 99,
   "id": "59050662",
   "metadata": {},
   "outputs": [
    {
     "name": "stdout",
     "output_type": "stream",
     "text": [
      "[[  1  13  21  11 196  75   4   3  34   6   7   8   0   1   2   3   4   5]\n",
      " [  3  42  12  33 766  75   4  55   6   4   3   4   5   6   7   0  11  12]\n",
      " [  1  22  33  11 999  11   2   1  78   0   1   2   9   8   7   1  76  88]]\n"
     ]
    }
   ],
   "source": [
    "filedata = np.genfromtxt('dt.txt', delimiter=',')\n",
    "filedata = filedata.astype('int64')\n",
    "print(filedata)"
   ]
  },
  {
   "cell_type": "code",
   "execution_count": 98,
   "id": "e08516fc",
   "metadata": {},
   "outputs": [
    {
     "data": {
      "text/plain": [
       "array([[ True,  True, False,  True,  True, False,  True,  True, False,\n",
       "         True,  True,  True,  True,  True,  True,  True,  True,  True],\n",
       "       [ True, False,  True, False,  True, False,  True, False,  True,\n",
       "         True,  True,  True,  True,  True,  True,  True,  True,  True],\n",
       "       [ True, False, False,  True,  True,  True,  True,  True, False,\n",
       "         True,  True,  True,  True,  True,  True,  True, False, False]])"
      ]
     },
     "execution_count": 98,
     "metadata": {},
     "output_type": "execute_result"
    }
   ],
   "source": [
    "# Boolean masking and indexing\n",
    "\n",
    "(~((filedata > 20) & (filedata < 90)))"
   ]
  },
  {
   "cell_type": "code",
   "execution_count": null,
   "id": "9d713c78",
   "metadata": {},
   "outputs": [],
   "source": []
  }
 ],
 "metadata": {
  "kernelspec": {
   "display_name": "Python 3",
   "language": "python",
   "name": "python3"
  },
  "language_info": {
   "codemirror_mode": {
    "name": "ipython",
    "version": 3
   },
   "file_extension": ".py",
   "mimetype": "text/x-python",
   "name": "python",
   "nbconvert_exporter": "python",
   "pygments_lexer": "ipython3",
   "version": "3.8.8"
  }
 },
 "nbformat": 4,
 "nbformat_minor": 5
}
